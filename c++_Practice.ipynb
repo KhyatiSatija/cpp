{
  "nbformat": 4,
  "nbformat_minor": 0,
  "metadata": {
    "colab": {
      "provenance": [],
      "authorship_tag": "ABX9TyNP/EQliS6d994WCPiyy1Gk",
      "include_colab_link": true
    },
    "kernelspec": {
      "name": "python3",
      "display_name": "Python 3"
    },
    "language_info": {
      "name": "python"
    }
  },
  "cells": [
    {
      "cell_type": "markdown",
      "metadata": {
        "id": "view-in-github",
        "colab_type": "text"
      },
      "source": [
        "<a href=\"https://colab.research.google.com/github/KhyatiSatija/cpp/blob/main/c%2B%2B_Practice.ipynb\" target=\"_parent\"><img src=\"https://colab.research.google.com/assets/colab-badge.svg\" alt=\"Open In Colab\"/></a>"
      ]
    },
    {
      "cell_type": "code",
      "execution_count": null,
      "metadata": {
        "colab": {
          "base_uri": "https://localhost:8080/"
        },
        "id": "_l-C2gTjq1Cw",
        "outputId": "367e32c6-3331-4691-eec3-eeb76248e217"
      },
      "outputs": [
        {
          "output_type": "stream",
          "name": "stdout",
          "text": [
            "Overwriting FizzBuzz.cpp\n"
          ]
        }
      ],
      "source": [
        "%%writefile FizzBuzz.cpp\n",
        "#include <iostream>\n",
        "using namespace std;\n",
        "\n",
        "int main(){\n",
        "    cout << \"Hello world!\" << endl;\n",
        "    return 0;\n",
        "}"
      ]
    },
    {
      "cell_type": "code",
      "source": [
        "%%shell\n",
        "g++ FizzBuzz.cpp -o Fizzbuzz\n",
        "./Fizzbuzz"
      ],
      "metadata": {
        "colab": {
          "base_uri": "https://localhost:8080/"
        },
        "id": "PCyfbOy5rwxZ",
        "outputId": "b50425f7-7ee4-4c91-85ea-44f5436b8513"
      },
      "execution_count": null,
      "outputs": [
        {
          "output_type": "stream",
          "name": "stdout",
          "text": [
            "Hello world!\n"
          ]
        },
        {
          "output_type": "execute_result",
          "data": {
            "text/plain": []
          },
          "metadata": {},
          "execution_count": 4
        }
      ]
    },
    {
      "cell_type": "code",
      "source": [
        "%%writefile hello.cpp\n",
        "#include <iostream>\n",
        "using namespace std;\n",
        "\n",
        "int main(){\n",
        "    cout << \"Starting text..\" << flush;\n",
        "    cout << \"Hello\" << endl;\n",
        "    cout << \"This is some more text\" << endl;\n",
        "    cout << \"Apple.\" << \"Mango \" << \"guava.\" << endl;\n",
        "    cout << \"Apple\" << \" \" << \"Grapes\" << endl;\n",
        "    return 0;\n",
        "}\n",
        "//cpp is case sensitive\n",
        "//iostream is input output stream\n",
        "// << is the insertion operator\n",
        "// endl is endline, shifts the cursor to the next line\n",
        "//every statement ends with a semicolon(;)\n",
        "//cout is used to print or display to the output.\n",
        "//by convention , returning 0 means everything is ok,  code is running fine\n",
        "//flush doesnt create a new line. Cursor remains in the same line itself"
      ],
      "metadata": {
        "colab": {
          "base_uri": "https://localhost:8080/"
        },
        "id": "i_6KkU_br-ir",
        "outputId": "35fc6c67-b5a0-4b6e-c595-9d3b7857edb6"
      },
      "execution_count": null,
      "outputs": [
        {
          "output_type": "stream",
          "name": "stdout",
          "text": [
            "Overwriting hello.cpp\n"
          ]
        }
      ]
    },
    {
      "cell_type": "code",
      "source": [
        "%%shell\n",
        "g++ hello.cpp -o hello\n",
        "./hello"
      ],
      "metadata": {
        "colab": {
          "base_uri": "https://localhost:8080/"
        },
        "id": "Dpszp73ztQC2",
        "outputId": "cb960a93-d0f3-419d-8251-389d215e1203"
      },
      "execution_count": null,
      "outputs": [
        {
          "output_type": "stream",
          "name": "stdout",
          "text": [
            "Starting text..Hello\n",
            "This is some more text\n",
            "Apple.Mango guava.\n",
            "Apple Grapes\n"
          ]
        },
        {
          "output_type": "execute_result",
          "data": {
            "text/plain": []
          },
          "metadata": {},
          "execution_count": 9
        }
      ]
    },
    {
      "cell_type": "code",
      "source": [
        "%%writefile printString.cpp\n",
        "#include <iostream>\n",
        "using namespace std;\n",
        "int main(){\n",
        "    cout << \"This is my first C++ Program\" << endl;\n",
        "    return 0;\n",
        "}"
      ],
      "metadata": {
        "colab": {
          "base_uri": "https://localhost:8080/"
        },
        "id": "T7yBs23GkD2R",
        "outputId": "e5779e53-7dc2-49be-d707-73ec195ab42b"
      },
      "execution_count": null,
      "outputs": [
        {
          "output_type": "stream",
          "name": "stdout",
          "text": [
            "Overwriting printString.cpp\n"
          ]
        }
      ]
    },
    {
      "cell_type": "code",
      "source": [
        "%%shell\n",
        "g++ printString.cpp -o printString\n",
        "./printString"
      ],
      "metadata": {
        "colab": {
          "base_uri": "https://localhost:8080/"
        },
        "id": "RTONE59Qki1s",
        "outputId": "5d720eb6-302b-41af-dda3-b8dd0ea5ec14"
      },
      "execution_count": null,
      "outputs": [
        {
          "output_type": "stream",
          "name": "stdout",
          "text": [
            "This is my first C++ Program\n"
          ]
        },
        {
          "output_type": "execute_result",
          "data": {
            "text/plain": []
          },
          "metadata": {},
          "execution_count": 8
        }
      ]
    },
    {
      "cell_type": "code",
      "source": [
        "%%writefile print_no_ns.cpp\n",
        "#include <iostream>\n",
        "int main(){\n",
        "    std :: cout<<\"This is my first C++ Program\";\n",
        "    return 0;\n",
        "}"
      ],
      "metadata": {
        "colab": {
          "base_uri": "https://localhost:8080/"
        },
        "id": "wap9a3wxk5-O",
        "outputId": "0a03290c-5317-45db-8b63-9f1b4678f8bd"
      },
      "execution_count": null,
      "outputs": [
        {
          "output_type": "stream",
          "name": "stdout",
          "text": [
            "Overwriting print_no_ns.cpp\n"
          ]
        }
      ]
    },
    {
      "cell_type": "code",
      "source": [
        "%%shell\n",
        "g++ print_no_ns.cpp -o print_no_ns\n",
        "./print_no_ns"
      ],
      "metadata": {
        "colab": {
          "base_uri": "https://localhost:8080/"
        },
        "id": "g2uQSWX1mpU_",
        "outputId": "203dfc27-930a-4ecd-cbfd-60522866d9d2"
      },
      "execution_count": null,
      "outputs": [
        {
          "output_type": "stream",
          "name": "stdout",
          "text": [
            "This is my first C++ Program"
          ]
        },
        {
          "output_type": "execute_result",
          "data": {
            "text/plain": []
          },
          "metadata": {},
          "execution_count": 18
        }
      ]
    },
    {
      "cell_type": "code",
      "source": [
        "%%writefile variables.cpp\n",
        "#include <iostream>\n",
        "using namespace std;\n",
        "int main(){\n",
        "    cout<< sizeof(int) << endl;\n",
        "    cout<< sizeof(char) << endl;\n",
        "    cout<< sizeof(float) << endl;\n",
        "    cout<< sizeof(double) << endl;\n",
        "    return 0;\n",
        "}"
      ],
      "metadata": {
        "colab": {
          "base_uri": "https://localhost:8080/"
        },
        "id": "j-q1V-nomzx1",
        "outputId": "2bd5bf5d-1c20-4294-faaa-02bf8f3eb81d"
      },
      "execution_count": null,
      "outputs": [
        {
          "output_type": "stream",
          "name": "stdout",
          "text": [
            "Overwriting variables.cpp\n"
          ]
        }
      ]
    },
    {
      "cell_type": "code",
      "source": [
        "%%shell\n",
        "g++ variables.cpp -o variables\n",
        "./variables"
      ],
      "metadata": {
        "colab": {
          "base_uri": "https://localhost:8080/"
        },
        "id": "RtZaFSUxqhA0",
        "outputId": "df432cfe-5547-4f1b-c952-2a5c0e1fa1c5"
      },
      "execution_count": null,
      "outputs": [
        {
          "output_type": "stream",
          "name": "stdout",
          "text": [
            "4\n",
            "1\n",
            "4\n",
            "8\n"
          ]
        },
        {
          "output_type": "execute_result",
          "data": {
            "text/plain": []
          },
          "metadata": {},
          "execution_count": 22
        }
      ]
    },
    {
      "cell_type": "code",
      "source": [
        "%%writefile min_three.cpp\n",
        "#include <iostream>\n",
        "using namespace std;\n",
        "int main(){\n",
        "    int price1;\n",
        "    int price2;\n",
        "    int price3;\n",
        "    cout<< \"Enter the price of Smartphone 1: $\";\n",
        "    cin >> price1;\n",
        "    cout<< \"Enter the price of Smartphone 2: $\";\n",
        "    cin >> price2;\n",
        "    cout<< \"Enter the price of Smartphone 3: $\";\n",
        "    cin >> price3;\n",
        "    int minimum = price1;\n",
        "    if (minimum > price2){\n",
        "        minimum = price2;\n",
        "    }\n",
        "    else if ( minimum > price3){\n",
        "        minimum = price3;\n",
        "    }\n",
        "    cout<< \"The best deal in Smartphone is $\"<< minimum;\n",
        "}"
      ],
      "metadata": {
        "colab": {
          "base_uri": "https://localhost:8080/"
        },
        "id": "DTqfSEfqqmL5",
        "outputId": "ec5fff66-588a-4972-a388-8e330471ed36"
      },
      "execution_count": null,
      "outputs": [
        {
          "output_type": "stream",
          "name": "stdout",
          "text": [
            "Overwriting min_three.cpp\n"
          ]
        }
      ]
    },
    {
      "cell_type": "code",
      "source": [
        "%%shell\n",
        "g++ min_three.cpp -o min_three\n",
        "./min_three"
      ],
      "metadata": {
        "colab": {
          "base_uri": "https://localhost:8080/"
        },
        "id": "rBrMQ-0aswpB",
        "outputId": "cec77a1e-4026-4f73-cbdf-55db2b4bfbad"
      },
      "execution_count": null,
      "outputs": [
        {
          "output_type": "stream",
          "name": "stdout",
          "text": [
            "Enter the price of Smartphone 1: $600\n",
            "Enter the price of Smartphone 2: $550\n",
            "Enter the price of Smartphone 3: $580\n",
            "The best deal in Smartphone is $550"
          ]
        },
        {
          "output_type": "execute_result",
          "data": {
            "text/plain": []
          },
          "metadata": {},
          "execution_count": 36
        }
      ]
    },
    {
      "cell_type": "code",
      "source": [
        "%%writefile different_line.cpp\n",
        "#include <iostream>\n",
        "\n",
        "using namespace std;\n",
        "int main(){\n",
        "    string line;\n",
        "    getline(cin,line);\n",
        "    for(int i = 0; i < line.length();i++){\n",
        "        if (line[i] == ' '){\n",
        "            cout<<\"\\n\";\n",
        "        }\n",
        "        else{\n",
        "            cout<< line[i];\n",
        "        }\n",
        "    }\n",
        "}"
      ],
      "metadata": {
        "colab": {
          "base_uri": "https://localhost:8080/"
        },
        "id": "9NNbzshXs2mY",
        "outputId": "6c25af81-2aa1-42e0-abf0-14d4d19a14b2"
      },
      "execution_count": null,
      "outputs": [
        {
          "output_type": "stream",
          "name": "stdout",
          "text": [
            "Writing different_line.cpp\n"
          ]
        }
      ]
    },
    {
      "cell_type": "code",
      "source": [
        "%%shell\n",
        "g++ different_line.cpp -o different_line\n",
        "./different_line"
      ],
      "metadata": {
        "colab": {
          "base_uri": "https://localhost:8080/"
        },
        "id": "vKyxeqfe2xYI",
        "outputId": "bd8bf994-d14b-4874-d402-423eeabb0803"
      },
      "execution_count": null,
      "outputs": [
        {
          "output_type": "stream",
          "name": "stdout",
          "text": [
            "hii my name is khyati and i am a good girl\n",
            "hii\n",
            "my\n",
            "name\n",
            "is\n",
            "khyati\n",
            "and\n",
            "i\n",
            "am\n",
            "a\n",
            "good\n",
            "girl"
          ]
        },
        {
          "output_type": "execute_result",
          "data": {
            "text/plain": []
          },
          "metadata": {},
          "execution_count": 2
        }
      ]
    },
    {
      "cell_type": "code",
      "source": [
        "%%writefile first_sumA.cpp\n",
        "#include <iostream>\n",
        "using namespace std;\n",
        "int main(){\n",
        "    int num;\n",
        "    cout << \"Enter a positive number: \";\n",
        "    cin >> num;\n",
        "    int total = 0;\n",
        "    for(int i = 0; i < num + 1; i++){\n",
        "        total += i;\n",
        "    }\n",
        "    cout<<\"Sum = \"<< total;\n",
        "}"
      ],
      "metadata": {
        "id": "um_-AXNH2-BJ",
        "colab": {
          "base_uri": "https://localhost:8080/"
        },
        "outputId": "67a89a1d-272d-4ad0-e987-63b5f4fe450d"
      },
      "execution_count": null,
      "outputs": [
        {
          "output_type": "stream",
          "name": "stdout",
          "text": [
            "Overwriting first_sumA.cpp\n"
          ]
        }
      ]
    },
    {
      "cell_type": "code",
      "source": [
        "%%shell\n",
        "g++ first_sumA.cpp -o first_sumA\n",
        "./first_sumA"
      ],
      "metadata": {
        "colab": {
          "base_uri": "https://localhost:8080/"
        },
        "id": "kKGSN-TxY291",
        "outputId": "6aa254d7-4a99-4941-a52c-6aad5acd7945"
      },
      "execution_count": null,
      "outputs": [
        {
          "output_type": "stream",
          "name": "stdout",
          "text": [
            "Enter a positive number: 6\n",
            "Sum = 21"
          ]
        },
        {
          "output_type": "execute_result",
          "data": {
            "text/plain": []
          },
          "metadata": {},
          "execution_count": 22
        }
      ]
    },
    {
      "cell_type": "code",
      "source": [
        "%%writefile first_sumB.cpp\n",
        "\n",
        "#include <iostream>\n",
        "using namespace std;\n",
        "int total_sum(int num){\n",
        "    if (num <= 0){\n",
        "        return 0;\n",
        "    }\n",
        "    return num + total_sum(num - 1);\n",
        "}\n",
        "\n",
        "int main(){\n",
        "    int num;\n",
        "    cout << \"Enter a positive number: \";\n",
        "    cin >> num;\n",
        "    cout <<\"Sum =\" <<total_sum(num);\n",
        "}"
      ],
      "metadata": {
        "colab": {
          "base_uri": "https://localhost:8080/"
        },
        "id": "l0O9lNRhY-ds",
        "outputId": "6658db93-f257-45db-e2fa-35e4b32d0dd7"
      },
      "execution_count": null,
      "outputs": [
        {
          "output_type": "stream",
          "name": "stdout",
          "text": [
            "Overwriting first_sumB.cpp\n"
          ]
        }
      ]
    },
    {
      "cell_type": "code",
      "source": [
        "%%shell\n",
        "g++ first_sumB.cpp -o first_sumB\n",
        "./first_sumB"
      ],
      "metadata": {
        "colab": {
          "base_uri": "https://localhost:8080/"
        },
        "id": "NNhqmM8ta2lZ",
        "outputId": "33cc1499-bf2a-47c5-e7ef-a56618759454"
      },
      "execution_count": null,
      "outputs": [
        {
          "output_type": "stream",
          "name": "stdout",
          "text": [
            "Enter a positive number: 6\n",
            "Sum =21"
          ]
        },
        {
          "output_type": "execute_result",
          "data": {
            "text/plain": []
          },
          "metadata": {},
          "execution_count": 24
        }
      ]
    },
    {
      "cell_type": "code",
      "source": [
        "%%writefile decimal_to_binary.cpp\n",
        "#include <iostream>\n",
        "using namespace std;\n",
        "\n",
        "string decimal_to_binary(int num){\n",
        "    if (num == 0){\n",
        "        return \"0\";\n",
        "    }\n",
        "    string binary_num = \"\";\n",
        "    while (num > 0){\n",
        "        int rem = num % 2;\n",
        "        num = num / 2;\n",
        "        binary_num = to_string(rem) + binary_num; //string concatenation used to get the binary numbers in reverse order\n",
        "    }\n",
        "    return binary_num;\n",
        "}\n",
        "int main(){\n",
        "    int num;\n",
        "    cout << \"Enter a decimal number: \";\n",
        "    cin >> num;\n",
        "    string binary_num = decimal_to_binary(num);\n",
        "    cout << \"Binary representation: \"<< binary_num << endl;\n",
        "}"
      ],
      "metadata": {
        "colab": {
          "base_uri": "https://localhost:8080/"
        },
        "id": "cIH_rqUebEyi",
        "outputId": "443fe5da-e7bd-46dd-d4a5-9b45bcdb4967"
      },
      "execution_count": null,
      "outputs": [
        {
          "output_type": "stream",
          "name": "stdout",
          "text": [
            "Overwriting decimal_to_binary.cpp\n"
          ]
        }
      ]
    },
    {
      "cell_type": "code",
      "source": [
        "%%shell\n",
        "g++ decimal_to_binary.cpp -o decimal_to_binary\n",
        "./decimal_to_binary"
      ],
      "metadata": {
        "colab": {
          "base_uri": "https://localhost:8080/"
        },
        "id": "xgoqYuy7zlbn",
        "outputId": "09a2dbe8-ddfa-4bb9-94a0-9678d04d15f0"
      },
      "execution_count": null,
      "outputs": [
        {
          "output_type": "stream",
          "name": "stdout",
          "text": [
            "Enter a decimal number: 25\n",
            "Binary representation: 11001\n"
          ]
        },
        {
          "output_type": "execute_result",
          "data": {
            "text/plain": []
          },
          "metadata": {},
          "execution_count": 21
        }
      ]
    },
    {
      "cell_type": "code",
      "source": [
        "%%writefile gp.cpp\n",
        "#include <iostream>\n",
        "#include <cmath>\n",
        "using namespace std;\n",
        "\n",
        "int main(){\n",
        "    int a;\n",
        "    float r;\n",
        "    int n;\n",
        "    cout<< \"Enter the starting investment (a): \";\n",
        "    cin >> a;\n",
        "    cout<< \"Enter the common ratio (r):\";\n",
        "    cin >> r;\n",
        "    cout << \"Enter the number of years (n):\";\n",
        "    cin >> n;\n",
        "    for(int i = 0; i< n; i++){\n",
        "        cout<< \"Year \" << (i + 1 ) << \": $\" << (a * pow(r , i)) << endl;\n",
        "    }\n",
        "}"
      ],
      "metadata": {
        "colab": {
          "base_uri": "https://localhost:8080/"
        },
        "id": "5XaFdVsWz1Yl",
        "outputId": "50b118af-b4bb-4d86-a430-4dcd06d34029"
      },
      "execution_count": null,
      "outputs": [
        {
          "output_type": "stream",
          "name": "stdout",
          "text": [
            "Overwriting gp.cpp\n"
          ]
        }
      ]
    },
    {
      "cell_type": "code",
      "source": [
        "%%shell\n",
        "g++ gp.cpp -o gp\n",
        "./gp"
      ],
      "metadata": {
        "colab": {
          "base_uri": "https://localhost:8080/"
        },
        "id": "ElDvRi6w_AOv",
        "outputId": "75541a53-10d0-4eb7-8b37-2519e18f66fb"
      },
      "execution_count": null,
      "outputs": [
        {
          "output_type": "stream",
          "name": "stdout",
          "text": [
            "Enter the starting investment (a): 5000\n",
            "Enter the common ratio (r):1.1\n",
            "Enter the number of years (n):5\n",
            "Year 1: $5000\n",
            "Year 2: $5500\n",
            "Year 3: $6050\n",
            "Year 4: $6655\n",
            "Year 5: $7320.5\n"
          ]
        },
        {
          "output_type": "execute_result",
          "data": {
            "text/plain": []
          },
          "metadata": {},
          "execution_count": 31
        }
      ]
    },
    {
      "cell_type": "code",
      "source": [
        "%%writefile gcd.cpp\n",
        "#include <iostream>\n",
        "using namespace std;\n",
        "int main(){\n",
        "    int a;\n",
        "    int b;\n",
        "    cout << \"Enter two positive integers 'a' and 'b': \";\n",
        "    cin >>a;\n",
        "    cin >>b;\n",
        "    int min;\n",
        "    int max;\n",
        "    if (a < b){\n",
        "        min = a;\n",
        "        max = b;\n",
        "    }\n",
        "    else {\n",
        "        min = b;\n",
        "        max = a;\n",
        "    }\n",
        "    int rem;\n",
        "    while ( min > 0){\n",
        "        rem = max % min;\n",
        "        max = min;\n",
        "        min = rem;\n",
        "    }\n",
        "    int gcd = max;\n",
        "    cout << \"GCD of \"<< a << \" and\" << b << \" is : \" << gcd << endl;\n",
        "}\n"
      ],
      "metadata": {
        "colab": {
          "base_uri": "https://localhost:8080/"
        },
        "id": "yeLqtMbsFGXY",
        "outputId": "24757d46-78af-4a89-ed61-21bab830becc"
      },
      "execution_count": null,
      "outputs": [
        {
          "output_type": "stream",
          "name": "stdout",
          "text": [
            "Overwriting gcd.cpp\n"
          ]
        }
      ]
    },
    {
      "cell_type": "code",
      "source": [
        "%%shell\n",
        "g++ gcd.cpp -o gcd\n",
        "./gcd"
      ],
      "metadata": {
        "colab": {
          "base_uri": "https://localhost:8080/"
        },
        "id": "k3ehmce3Lxs0",
        "outputId": "d1d01dca-afe7-4376-e83e-2e1b0aecf556"
      },
      "execution_count": null,
      "outputs": [
        {
          "output_type": "stream",
          "name": "stdout",
          "text": [
            "Enter two positive integers 'a' and 'b': 24 18\n",
            "GCD of 24 and18 is : 6\n"
          ]
        },
        {
          "output_type": "execute_result",
          "data": {
            "text/plain": []
          },
          "metadata": {},
          "execution_count": 52
        }
      ]
    },
    {
      "cell_type": "code",
      "source": [
        "%%writefile bmi.cpp\n",
        "#include <iostream>\n",
        "#include <cmath>\n",
        "using namespace std;\n",
        "int main(){\n",
        "    float weight ;\n",
        "    float height ;\n",
        "    cout << \"Enter your weight in kilograms: \";\n",
        "    cin >> weight;\n",
        "    cout << \"Enter your height in meters: \";\n",
        "    cin >> height;\n",
        "    float bmi = weight / (pow(height, 2));\n",
        "    cout << \"your bmi is \" << bmi << endl;\n",
        "    cout << \" You are \";\n",
        "    if (bmi < 18.5){\n",
        "        cout << \"underweight.\";\n",
        "    }\n",
        "    else if ( bmi > 24.9){\n",
        "        cout<< \"overweight.\";\n",
        "    }\n",
        "    else{\n",
        "        cout << \"healthy.\";\n",
        "    }\n",
        "}"
      ],
      "metadata": {
        "colab": {
          "base_uri": "https://localhost:8080/"
        },
        "id": "TNCWX2uR_ECO",
        "outputId": "b7b390aa-7477-4a0f-9a70-5b6c2cdc0574"
      },
      "execution_count": null,
      "outputs": [
        {
          "output_type": "stream",
          "name": "stdout",
          "text": [
            "Overwriting bmi.cpp\n"
          ]
        }
      ]
    },
    {
      "cell_type": "code",
      "source": [
        "%%shell\n",
        "g++ bmi.cpp -o bmi\n",
        "./bmi"
      ],
      "metadata": {
        "colab": {
          "base_uri": "https://localhost:8080/"
        },
        "id": "XY8GhcIXFCQm",
        "outputId": "53cb0285-6606-4fbc-ce83-852d8d37760e"
      },
      "execution_count": null,
      "outputs": [
        {
          "output_type": "stream",
          "name": "stdout",
          "text": [
            "Enter your weight in kilograms: 60\n",
            "Enter your height in meters: 1.4\n",
            "your bmi is 30.6122\n",
            " You are overweight."
          ]
        },
        {
          "output_type": "execute_result",
          "data": {
            "text/plain": []
          },
          "metadata": {},
          "execution_count": 43
        }
      ]
    },
    {
      "cell_type": "markdown",
      "source": [
        "#Sorting Algorithms"
      ],
      "metadata": {
        "id": "VK2YqHn7gv0j"
      }
    },
    {
      "cell_type": "code",
      "source": [
        "%%writefile selectionSort.cpp\n",
        "#include <iostream>\n",
        "using namespace std;\n",
        "\n",
        "int main() {\n",
        "    int n;\n",
        "    cin >> n;\n",
        "    int arr[n];\n",
        "    for (int i = 0;i < n; i++){\n",
        "        cin >> arr[i];\n",
        "    }\n",
        "\n",
        "    for(int i = 0; i< n - 1; i++){\n",
        "        for(int j = i + 1; j < n;  j++){\n",
        "            if(arr[i] > arr[j]){\n",
        "                int temp = arr[j];\n",
        "                arr[j] = arr[i];\n",
        "                arr[i] = temp;\n",
        "            }\n",
        "        }\n",
        "    }\n",
        "    for (int i = 0;i < n; i++){\n",
        "        cout << arr[i] << \" \";\n",
        "    }\n",
        "\n",
        "    return 0;\n",
        "}"
      ],
      "metadata": {
        "colab": {
          "base_uri": "https://localhost:8080/"
        },
        "id": "euNphe2ugtqx",
        "outputId": "80c72da0-acae-4820-fcbb-471abb0f2142"
      },
      "execution_count": null,
      "outputs": [
        {
          "output_type": "stream",
          "name": "stdout",
          "text": [
            "Overwriting selectionSort.cpp\n"
          ]
        }
      ]
    },
    {
      "cell_type": "code",
      "source": [
        "%%shell\n",
        "g++ selectionSort.cpp -o selectionSort\n",
        "./selectionSort"
      ],
      "metadata": {
        "colab": {
          "base_uri": "https://localhost:8080/"
        },
        "id": "XOxD_pmtnVBB",
        "outputId": "3a669c30-85a4-43b6-8138-eaafaf2855e0"
      },
      "execution_count": null,
      "outputs": [
        {
          "output_type": "stream",
          "name": "stdout",
          "text": [
            "6\n",
            "12 45 6 7 12 9 3 \n",
            "6 7 9 12 12 45 "
          ]
        },
        {
          "output_type": "execute_result",
          "data": {
            "text/plain": []
          },
          "metadata": {},
          "execution_count": 5
        }
      ]
    },
    {
      "cell_type": "code",
      "source": [
        "%%writefile bubble_sort.cpp\n",
        "#include <iostream>\n",
        "using namespace std;\n",
        "int main() {\n",
        "    int n;\n",
        "    cin >>n;\n",
        "    int arr[n];\n",
        "    for(int i= 0;i<n;i++){\n",
        "        cin >> arr[i];\n",
        "    }\n",
        "    for(int i = 0;i<n-1 ;i++){\n",
        "        for(int j = 0;j<n-1-i;j++){\n",
        "            if (arr[j] > arr[j+1]){\n",
        "                int temp = arr[j+1];\n",
        "                arr[j+1]= arr[j];\n",
        "                arr[j]= temp;\n",
        "            }\n",
        "        }\n",
        "    }\n",
        "    for( int i = 0; i< n;i++){\n",
        "        cout << arr[i]<< \" \";\n",
        "    }\n",
        "    cout<< endl;\n",
        "}"
      ],
      "metadata": {
        "id": "Bo6LkY6oneE5",
        "colab": {
          "base_uri": "https://localhost:8080/"
        },
        "outputId": "b8cc260b-1286-4d7b-9efe-6072c9895c71"
      },
      "execution_count": null,
      "outputs": [
        {
          "output_type": "stream",
          "name": "stdout",
          "text": [
            "Overwriting bubble_sort.cpp\n"
          ]
        }
      ]
    },
    {
      "cell_type": "code",
      "source": [
        "%%shell\n",
        "g++ bubble_sort.cpp -o bubble_sort\n",
        "./bubble_sort"
      ],
      "metadata": {
        "colab": {
          "base_uri": "https://localhost:8080/"
        },
        "id": "iBNXq6YiCe76",
        "outputId": "1bbad0bb-50b8-4e29-ddaf-090002ee5068"
      },
      "execution_count": null,
      "outputs": [
        {
          "output_type": "stream",
          "name": "stdout",
          "text": [
            "5\n",
            "45 76 12 8 23 5\n",
            "8 12 23 45 76 \n"
          ]
        },
        {
          "output_type": "execute_result",
          "data": {
            "text/plain": []
          },
          "metadata": {},
          "execution_count": 6
        }
      ]
    },
    {
      "cell_type": "code",
      "source": [
        "%%writefile insertion_sort.cpp\n",
        "#include <iostream>\n",
        "using namespace std;\n",
        "int main() {\n",
        "    int n;\n",
        "    cin >>n;\n",
        "    int arr[n];\n",
        "    for(int i = 0;i< n;i++){\n",
        "        cin >> arr[i];\n",
        "    }\n",
        "    //insertion sort\n",
        "    for(int i =1;i<n;i++){\n",
        "        int current = arr[i];\n",
        "        int j = i -1;\n",
        "        while (arr[j] > current && j >=0){\n",
        "            arr[j+1] = arr[j];\n",
        "            j--;\n",
        "        }\n",
        "        arr[j+ 1] = current;\n",
        "    }\n",
        "    //print the array\n",
        "    for(int i=0;i<n;i++){\n",
        "        cout << arr[i]<< \" \";\n",
        "    }\n",
        "    cout << endl;\n",
        "    return 0;\n",
        "}"
      ],
      "metadata": {
        "colab": {
          "base_uri": "https://localhost:8080/"
        },
        "id": "NyB-F9aqCoQX",
        "outputId": "4aac12e7-ef3b-4b68-b99d-6b5ce7927052"
      },
      "execution_count": null,
      "outputs": [
        {
          "output_type": "stream",
          "name": "stdout",
          "text": [
            "Overwriting insertion_sort.cpp\n"
          ]
        }
      ]
    },
    {
      "cell_type": "code",
      "source": [
        "%%shell\n",
        "g++ insertion_sort.cpp -o insertion_sort\n",
        "./insertion_sort"
      ],
      "metadata": {
        "colab": {
          "base_uri": "https://localhost:8080/"
        },
        "id": "y1Oe6R2aMSw_",
        "outputId": "3b7c2c5c-b89c-4b80-87be-9fb350fa116d"
      },
      "execution_count": null,
      "outputs": [
        {
          "output_type": "stream",
          "name": "stdout",
          "text": [
            "5\n",
            "34 21 45 2 8\n",
            "2 8 21 34 45 \n"
          ]
        },
        {
          "output_type": "execute_result",
          "data": {
            "text/plain": []
          },
          "metadata": {},
          "execution_count": 10
        }
      ]
    },
    {
      "cell_type": "code",
      "source": [
        "#max till i\n",
        "arr = [3,4,2,8,1,5]\n",
        "output = [3,4,4,8,8,8] #non-decreasing\n",
        "def max_till_i(arr: list[int]) -> list[int]:\n",
        "    output = []\n",
        "    for n in arr:\n",
        "        if output != []:\n",
        "            if n > output[-1]:\n",
        "                output.append(n)\n",
        "            else:\n",
        "                output.append(output[-1])\n",
        "        else:\n",
        "            output.append(n)\n",
        "    return output"
      ],
      "metadata": {
        "id": "-ZNYFeqCMYln"
      },
      "execution_count": null,
      "outputs": []
    },
    {
      "cell_type": "code",
      "source": [
        "max_till_i(arr)"
      ],
      "metadata": {
        "colab": {
          "base_uri": "https://localhost:8080/"
        },
        "id": "81CYKd97W_YD",
        "outputId": "ba3e7619-eb8f-4c22-a977-e1f9d29c3db0"
      },
      "execution_count": null,
      "outputs": [
        {
          "output_type": "execute_result",
          "data": {
            "text/plain": [
              "[3, 4, 4, 8, 8, 8]"
            ]
          },
          "metadata": {},
          "execution_count": 15
        }
      ]
    },
    {
      "cell_type": "code",
      "source": [
        "%%writefile max_till_i.cpp\n",
        "#include <iostream>\n",
        "using namespace std;\n",
        "int main(){\n",
        "    int n;\n",
        "    cin >> n;\n",
        "    int arr[n];\n",
        "    for(int i = 0; i < n; i++){\n",
        "        cin >> arr[i];\n",
        "    }\n",
        "    int mx = -999;\n",
        "    for(int i = 0; i < n ; i++){\n",
        "        mx = max(mx, arr[i]);\n",
        "        cout << mx << \" \";\n",
        "    }\n",
        "    cout << endl;\n",
        "    return 0;\n",
        "}"
      ],
      "metadata": {
        "colab": {
          "base_uri": "https://localhost:8080/"
        },
        "id": "ovdcTSr7XCup",
        "outputId": "2053a072-63ca-4183-ff32-153eaf57b3c3"
      },
      "execution_count": null,
      "outputs": [
        {
          "output_type": "stream",
          "name": "stdout",
          "text": [
            "Overwriting max_till_i.cpp\n"
          ]
        }
      ]
    },
    {
      "cell_type": "code",
      "source": [
        "%%shell\n",
        "g++ max_till_i.cpp -o max_till_i\n",
        "./max_till_i"
      ],
      "metadata": {
        "id": "pb2GVclKZW-7"
      },
      "execution_count": null,
      "outputs": []
    },
    {
      "cell_type": "code",
      "source": [
        "def sum_subarray(arr: list[int]) -> int:\n",
        "    all_subs = []\n",
        "    for i in range(len(arr)):\n",
        "        for j in range(i,len(arr)):\n",
        "            all_subs.append(arr[i : j])\n",
        "    return sum(list(map(sum, all_subs)))\n",
        "sum_subarray([1,2,3,4,5,6])"
      ],
      "metadata": {
        "colab": {
          "base_uri": "https://localhost:8080/"
        },
        "id": "yCqBQ2PZq2KV",
        "outputId": "6f524dab-43f8-49ce-809d-e158c49ebd48"
      },
      "execution_count": null,
      "outputs": [
        {
          "output_type": "execute_result",
          "data": {
            "text/plain": [
              "105"
            ]
          },
          "metadata": {},
          "execution_count": 28
        }
      ]
    },
    {
      "cell_type": "code",
      "source": [
        "%%writefile sum_each_subarray.cpp\n",
        "#include <iostream>\n",
        "using namespace std;\n",
        "int main(){\n",
        "    int n;\n",
        "    cin >> n;\n",
        "    int arr[n];\n",
        "    for(int i = 0; i < n; i ++){\n",
        "        cin >> arr[i];\n",
        "    }\n",
        "    int total = 0;\n",
        "    for(int i  = 0; i< n ; i ++){\n",
        "        for(int j = i; j < n; j ++){\n",
        "            //total += arr[i : j]; you cant do this in c++\n",
        "            int sum_subarr = 0;\n",
        "            for(int k = i; k <=j;k++){\n",
        "                sum_subarr += arr[k];\n",
        "            }\n",
        "            total += sum_subarr;\n",
        "        }\n",
        "    }\n",
        "    cout << total << endl;\n",
        "    return 0;\n",
        "}\n"
      ],
      "metadata": {
        "colab": {
          "base_uri": "https://localhost:8080/"
        },
        "id": "OUK59HoEZb67",
        "outputId": "6b41e2e6-1844-40b3-9f8e-7bef9d25f439"
      },
      "execution_count": null,
      "outputs": [
        {
          "output_type": "stream",
          "name": "stdout",
          "text": [
            "Overwriting sum_each_subarray.cpp\n"
          ]
        }
      ]
    },
    {
      "cell_type": "code",
      "source": [
        "%%shell\n",
        "g++ sum_each_subarray.cpp -o sum_each_subarray\n",
        "./sum_each_subarray"
      ],
      "metadata": {
        "colab": {
          "base_uri": "https://localhost:8080/"
        },
        "id": "a4Q4_x2MuEC3",
        "outputId": "9c81bb7d-82d6-4a6a-b7e9-606127aba2ac"
      },
      "execution_count": null,
      "outputs": [
        {
          "output_type": "stream",
          "name": "stdout",
          "text": [
            "6\n",
            "1 2 3 4 5 6 \n",
            "196\n"
          ]
        },
        {
          "output_type": "execute_result",
          "data": {
            "text/plain": []
          },
          "metadata": {},
          "execution_count": 39
        }
      ]
    },
    {
      "cell_type": "code",
      "source": [
        "def arithmetic_subarr(arr: list[int]) -> bool:\n",
        "    bools = []\n",
        "    for n in arr[0:len(arr) - 2]:\n",
        "        if n - arr[arr.index(n) + 1] == arr[arr.index(n) + 1]  - arr[arr.index(n) + 2]:\n",
        "           bools.append(True)\n",
        "    return all(bools)"
      ],
      "metadata": {
        "id": "OLGYPIYX0qL-"
      },
      "execution_count": null,
      "outputs": []
    },
    {
      "cell_type": "code",
      "source": [
        "arithmetic_subarr([3,3,3])"
      ],
      "metadata": {
        "colab": {
          "base_uri": "https://localhost:8080/"
        },
        "id": "NIo4eERZ115o",
        "outputId": "afca8490-f9c9-4ec9-b40a-c6b409bc926a"
      },
      "execution_count": null,
      "outputs": [
        {
          "output_type": "execute_result",
          "data": {
            "text/plain": [
              "True"
            ]
          },
          "metadata": {},
          "execution_count": 2
        }
      ]
    },
    {
      "cell_type": "code",
      "source": [
        "arithmetic_subarr([9,7,5,3])"
      ],
      "metadata": {
        "colab": {
          "base_uri": "https://localhost:8080/"
        },
        "id": "8Rza2pRW2BLf",
        "outputId": "a261b890-46de-44ff-b2b4-5612a7a6f498"
      },
      "execution_count": null,
      "outputs": [
        {
          "output_type": "execute_result",
          "data": {
            "text/plain": [
              "True"
            ]
          },
          "metadata": {},
          "execution_count": 3
        }
      ]
    },
    {
      "cell_type": "code",
      "source": [
        "#longest arithmetic subarray\n",
        "def las(arr: list[int]) -> int:\n",
        "    subarrays = []\n",
        "    for i in range(len(arr)):\n",
        "        for j in range(i,len(arr)):\n",
        "            subarrays.append(arr[i : j])\n",
        "    return max(list(map(len, list(filter(arithmetic_subarr, subarrays)))))"
      ],
      "metadata": {
        "id": "qAsREGszuNo0"
      },
      "execution_count": null,
      "outputs": []
    },
    {
      "cell_type": "code",
      "source": [
        "las([9,7,5,3])"
      ],
      "metadata": {
        "colab": {
          "base_uri": "https://localhost:8080/"
        },
        "id": "vSJMZsNI2yPG",
        "outputId": "17c9594e-3430-4a7d-bb9f-5bd67187e77a"
      },
      "execution_count": null,
      "outputs": [
        {
          "output_type": "execute_result",
          "data": {
            "text/plain": [
              "3"
            ]
          },
          "metadata": {},
          "execution_count": 5
        }
      ]
    },
    {
      "cell_type": "code",
      "source": [
        "%%writefile max_arithmetic_subarr.cpp\n",
        "#include <iostream>\n",
        "using namespace std;\n",
        "int main(){\n",
        "    int testCase;\n",
        "    cin >> testCase;\n",
        "    while (testCase > 0){\n",
        "        int n;\n",
        "        cin >> n;\n",
        "        int arr[n];\n",
        "        for(int i = 0; i < n; i++){\n",
        "            cin >> arr[i];\n",
        "        }\n",
        "        int cd = arr[1] - arr[0];\n",
        "        int j = 2;\n",
        "        int ans = 2;\n",
        "        int current = 2;\n",
        "        while(j < n){\n",
        "            if ( cd == arr[j] - arr[j - 1]){\n",
        "                current++;\n",
        "            }\n",
        "            else{\n",
        "                cd = arr[j] - arr[j - 1];\n",
        "                current = 2; //reset the cuurent value\n",
        "            }\n",
        "            ans = max(current, ans);\n",
        "            j++;\n",
        "        }\n",
        "        cout << ans << endl;\n",
        "\n",
        "        testCase--;\n",
        "    }\n",
        "    return 0;\n",
        "}"
      ],
      "metadata": {
        "colab": {
          "base_uri": "https://localhost:8080/"
        },
        "id": "JSvOrkjY22I7",
        "outputId": "c5a7f589-c7c4-4767-a712-b8ac9557d9e5"
      },
      "execution_count": null,
      "outputs": [
        {
          "output_type": "stream",
          "name": "stdout",
          "text": [
            "Overwriting max_arithmetic_subarr.cpp\n"
          ]
        }
      ]
    },
    {
      "cell_type": "code",
      "source": [
        "%%shell\n",
        "g++ max_arithmetic_subarr.cpp -o max_arithmetic_subarr\n",
        "./max_arithmetic_subarr"
      ],
      "metadata": {
        "colab": {
          "base_uri": "https://localhost:8080/"
        },
        "id": "lJm28h6netHZ",
        "outputId": "a82f347f-fcb7-45a4-d019-6512846ede1a"
      },
      "execution_count": null,
      "outputs": [
        {
          "output_type": "stream",
          "name": "stdout",
          "text": [
            "1\n",
            "7\n",
            "10 7 4 6 8 10 11\n",
            "4\n"
          ]
        },
        {
          "output_type": "execute_result",
          "data": {
            "text/plain": []
          },
          "metadata": {},
          "execution_count": 10
        }
      ]
    },
    {
      "cell_type": "code",
      "source": [
        "def record_breaker(arr: list[int]) -> int:\n",
        "    mx = -1\n",
        "    count = 0\n",
        "    for i in range(len(arr) - 1):\n",
        "        if arr[i] > mx and arr[i] > arr[i + 1]:\n",
        "            count += 1\n",
        "        mx = max(arr[i], mx)\n",
        "    if arr[-1] > mx:\n",
        "        count += 1\n",
        "    return count\n"
      ],
      "metadata": {
        "id": "06-6vU7YlMVs"
      },
      "execution_count": null,
      "outputs": []
    },
    {
      "cell_type": "code",
      "source": [
        "record_breaker([1,2,0,7,2,0,2,2])"
      ],
      "metadata": {
        "colab": {
          "base_uri": "https://localhost:8080/"
        },
        "id": "nvFGv8pBopfw",
        "outputId": "310c6e41-6ff1-4320-bec9-eaec28e09ce1"
      },
      "execution_count": null,
      "outputs": [
        {
          "output_type": "execute_result",
          "data": {
            "text/plain": [
              "2"
            ]
          },
          "metadata": {},
          "execution_count": 18
        }
      ]
    },
    {
      "cell_type": "code",
      "source": [
        "%%writefile record_breaker.cpp\n",
        "#include <iostream>\n",
        "using namespace std;\n",
        "int main(){\n",
        "    int n;\n",
        "    cin >> n;\n",
        "    int arr[n];\n",
        "    for(int i = 0; i < n ; i++){\n",
        "        cin >> arr[i];\n",
        "    }\n",
        "    if(n == 1){\n",
        "        cout << '1'<<endl;\n",
        "        return 0;\n",
        "    }\n",
        "    int mx = -1;\n",
        "    int count = 0;\n",
        "    for( int i = 0; i < n - 1; i++){\n",
        "        if ( arr[i] > mx && arr[i] > arr[i + 1]){\n",
        "            count++;\n",
        "        }\n",
        "        mx = max(arr[i], mx);\n",
        "    }\n",
        "    if ( arr[-1] > mx){\n",
        "        count++;\n",
        "    }\n",
        "    cout << count << endl;\n",
        "    return 0;\n",
        "}"
      ],
      "metadata": {
        "colab": {
          "base_uri": "https://localhost:8080/"
        },
        "id": "OrodppAxoseX",
        "outputId": "5fe94a37-c417-466b-cf5e-279c6fc09dd4"
      },
      "execution_count": null,
      "outputs": [
        {
          "output_type": "stream",
          "name": "stdout",
          "text": [
            "Overwriting record_breaker.cpp\n"
          ]
        }
      ]
    },
    {
      "cell_type": "code",
      "source": [
        "%%shell\n",
        "g++ record_breaker.cpp -o record_breaker\n",
        "./record_breaker"
      ],
      "metadata": {
        "colab": {
          "base_uri": "https://localhost:8080/"
        },
        "id": "t1s7VY9tpgTL",
        "outputId": "92dbcea2-fc28-43e4-b8ed-3c33ddbe4f96"
      },
      "execution_count": null,
      "outputs": [
        {
          "output_type": "stream",
          "name": "stdout",
          "text": [
            "4\n",
            "3 0 8 40\n",
            "2\n"
          ]
        },
        {
          "output_type": "execute_result",
          "data": {
            "text/plain": []
          },
          "metadata": {},
          "execution_count": 25
        }
      ]
    },
    {
      "cell_type": "code",
      "source": [
        "%%writefile merge_sort.cpp\n",
        "#include <iostream>\n",
        "using namespace std;\n",
        "void merge(int arr[], int l, int mid, int r){\n",
        "    int n1 = mid - l + 1;\n",
        "    int n2 = r - mid;\n",
        "    int a[n1];\n",
        "    int b[n2]; //temp arrays\n",
        "    for(int i = 0; i < n1; i++){\n",
        "        a[i] = arr[l + i];\n",
        "    }\n",
        "    for( int i = 0; i < n2; i++ ){\n",
        "        b[i] = arr[mid + 1 + i];\n",
        "    }\n",
        "    //now we need to merge two sorted arrays;\n",
        "    int i = 0; //pointer for array a[n1];\n",
        "    int j = 0; //pointer for array b[n2];\n",
        "    int k = l; //pointer for array arr[n];\n",
        "    while ( i < n1 && j < n2){\n",
        "        if( a[i] < b[j]){\n",
        "            arr[k] = a[i];\n",
        "            k++;\n",
        "            i++;\n",
        "        }\n",
        "        else{\n",
        "            arr[k] = b[j];\n",
        "            k++;\n",
        "            j++;\n",
        "        }\n",
        "    }\n",
        "    while( j < n2){\n",
        "        arr[k] = b[j];\n",
        "        k++;\n",
        "        j++;\n",
        "    }\n",
        "    while( i < n1){\n",
        "        arr[k] = a[i];\n",
        "        k++;\n",
        "        i++;\n",
        "    }\n",
        "}\n",
        "void mergeSort(int arr[], int l, int r){\n",
        "    if ( l < r){\n",
        "        int mid = (l + r) / 2;\n",
        "        mergeSort(arr, l, mid);\n",
        "        mergeSort(arr, mid + 1, r);\n",
        "        merge(arr, l, mid, r);\n",
        "    }\n",
        "}\n",
        "int main(){\n",
        "    int n;\n",
        "    cin >> n;\n",
        "    int arr[n];\n",
        "    for(int i = 0; i < n; i++){\n",
        "        cin >> arr[i];\n",
        "    }\n",
        "    mergeSort(arr, 0, n - 1);\n",
        "    for(int i = 0; i < n; i++){\n",
        "        cout << arr[i] << \" \";\n",
        "    }\n",
        "    cout << endl;\n",
        "    return 0;\n",
        "}"
      ],
      "metadata": {
        "colab": {
          "base_uri": "https://localhost:8080/"
        },
        "id": "fmLKTHlRpmKw",
        "outputId": "6236fcef-46d4-45df-88e9-b26db5ab745b"
      },
      "execution_count": null,
      "outputs": [
        {
          "output_type": "stream",
          "name": "stdout",
          "text": [
            "Writing merge_sort.cpp\n"
          ]
        }
      ]
    },
    {
      "cell_type": "code",
      "source": [
        "%%shell\n",
        "g++ merge_sort.cpp -o merge_sort\n",
        "./merge_sort"
      ],
      "metadata": {
        "colab": {
          "base_uri": "https://localhost:8080/"
        },
        "id": "r-eUa2U1GuhQ",
        "outputId": "66410527-7679-4f68-f32f-19a9566fc1c4"
      },
      "execution_count": null,
      "outputs": [
        {
          "output_type": "stream",
          "name": "stdout",
          "text": [
            "6\n",
            "65 23 2 98 4 12\n",
            "2 4 12 23 65 98 \n"
          ]
        },
        {
          "output_type": "execute_result",
          "data": {
            "text/plain": []
          },
          "metadata": {},
          "execution_count": 27
        }
      ]
    },
    {
      "cell_type": "code",
      "source": [
        "%%writefile count_sort_B.cpp\n",
        "#include <iostream>\n",
        "using namespace std;\n",
        "\n",
        "void countSort(int arr[], int n) {\n",
        "    int mx = arr[0];\n",
        "\n",
        "    // Find the maximum element in the array\n",
        "    for (int i = 1; i < n; i++) {\n",
        "        mx = max(mx, arr[i]);\n",
        "    }\n",
        "\n",
        "    // Create a count array and initialize all elements to 0\n",
        "    int count[mx + 1] = {0};\n",
        "\n",
        "    // Count the occurrences of each element in the input array\n",
        "    for (int i = 0; i < n; i++) {\n",
        "        count[arr[i]]++;\n",
        "    }\n",
        "\n",
        "    // Calculate the cumulative count\n",
        "    for (int i = 1; i <= mx; i++) {\n",
        "        count[i] += count[i - 1];\n",
        "    }\n",
        "\n",
        "    // Create an output array\n",
        "    int output[n] = {0};\n",
        "\n",
        "    // Build the output array by placing elements in their correct positions\n",
        "    for (int i = n - 1; i >= 0; i--) {\n",
        "        output[count[arr[i]] - 1] = arr[i];\n",
        "        count[arr[i]]--;\n",
        "    }\n",
        "\n",
        "    // Copy the sorted elements back to the original array\n",
        "    for (int i = 0; i < n; i++) {\n",
        "        arr[i] = output[i];\n",
        "    }\n",
        "}\n",
        "\n",
        "int main() {\n",
        "    int n;\n",
        "    cin >> n;\n",
        "    int arr[n];\n",
        "\n",
        "    // Input the array elements\n",
        "    for (int i = 0; i < n; i++) {\n",
        "        cin >> arr[i];\n",
        "    }\n",
        "\n",
        "    // Call the counting sort function\n",
        "    countSort(arr, n);\n",
        "\n",
        "    // Print the sorted array\n",
        "    for (int i = 0; i < n; i++) {\n",
        "        cout << arr[i] << \" \";\n",
        "    }\n",
        "    cout << endl;\n",
        "\n",
        "    return 0;\n",
        "}\n"
      ],
      "metadata": {
        "colab": {
          "base_uri": "https://localhost:8080/"
        },
        "id": "kiSqV4_OXHsN",
        "outputId": "79ccecff-956c-428d-fa12-96d6887e0224"
      },
      "execution_count": null,
      "outputs": [
        {
          "output_type": "stream",
          "name": "stdout",
          "text": [
            "Overwriting count_sort_B.cpp\n"
          ]
        }
      ]
    },
    {
      "cell_type": "code",
      "source": [
        "%%shell\n",
        "g++ count_sort_B.cpp -o count_sort_B\n",
        "./count_sort_B"
      ],
      "metadata": {
        "colab": {
          "base_uri": "https://localhost:8080/"
        },
        "id": "b9n0-JoMbkPR",
        "outputId": "c6190aad-5f69-44f0-8f94-b3a979b68c77"
      },
      "execution_count": null,
      "outputs": [
        {
          "output_type": "stream",
          "name": "stdout",
          "text": [
            "7\n",
            "4 5 6 6 4 5 3\n",
            "3 4 4 5 5 6 6 \n"
          ]
        },
        {
          "output_type": "execute_result",
          "data": {
            "text/plain": []
          },
          "metadata": {},
          "execution_count": 45
        }
      ]
    },
    {
      "cell_type": "code",
      "source": [
        "%%writefile count_sort_A.cpp\n",
        "//time complexity is O(n)\n",
        "#include <iostream>\n",
        "using namespace std;\n",
        "void countSort(int arr[],  int n){\n",
        "    int mx = arr[0];\n",
        "    for( int i = 1; i < n; i++){\n",
        "        mx = max(mx, arr[i]);\n",
        "    }\n",
        "    int count[mx + 1] = {0};\n",
        "    for(int i = 0; i < n; i++){\n",
        "        count[arr[i]]++;\n",
        "    }\n",
        "    for(int i = 1; i < mx + 1; i++){\n",
        "        count[i] += count[i - 1];\n",
        "    }\n",
        "    int output[n] = {0}; //always initializse the array with something to avoid having garbage values in the final answer.\n",
        "    for( int i = n - 1; i > -1 ; i--){\n",
        "        output[count[arr[i]] - 1] = arr[i];\n",
        "    }\n",
        "    for( int i = 0; i < n ; i++){\n",
        "        arr[i] = output[i];\n",
        "    }\n",
        "}\n",
        "int main(){\n",
        "    int n;\n",
        "    cin >> n;\n",
        "    int arr[n];\n",
        "    for(int i = 0; i < n; i++){\n",
        "        cin >> arr[i];\n",
        "    }\n",
        "    countSort(arr, n);\n",
        "    for( int i  = 0 ; i < n; i++){\n",
        "        cout << arr[i] << \" \";\n",
        "    }\n",
        "    cout << endl;\n",
        "}"
      ],
      "metadata": {
        "colab": {
          "base_uri": "https://localhost:8080/"
        },
        "id": "Qk2wQV9SGz3l",
        "outputId": "33397c52-6e00-4338-cae5-92008dd01db3"
      },
      "execution_count": null,
      "outputs": [
        {
          "output_type": "stream",
          "name": "stdout",
          "text": [
            "Overwriting count_sort.cpp\n"
          ]
        }
      ]
    },
    {
      "cell_type": "code",
      "source": [
        "%%writefile count_sort.cpp\n",
        "#include <iostream>\n",
        "using namespace std;\n",
        "\n",
        "void countSort(int arr[], int n) {\n",
        "    int mx = arr[0];\n",
        "\n",
        "    // Find the maximum element in the array\n",
        "    for (int i = 1; i < n; i++) {\n",
        "        mx = max(mx, arr[i]);\n",
        "    }\n",
        "\n",
        "    // Create a count array and initialize all elements to 0\n",
        "    int count[mx + 1] = {0};\n",
        "\n",
        "    // Count the occurrences of each element in the input array\n",
        "    for (int i = 0; i < n; i++) {\n",
        "        count[arr[i]]++;\n",
        "    }\n",
        "\n",
        "    // Calculate the cumulative count\n",
        "    for (int i = 1; i <= mx; i++) {\n",
        "        count[i] += count[i - 1];\n",
        "    }\n",
        "\n",
        "    // Create an output array\n",
        "    int output[n] = {0};\n",
        "\n",
        "    // Build the output array by placing elements in their correct positions\n",
        "    for (int i = n - 1; i >= 0; i--) {\n",
        "        output[count[arr[i]] - 1] = arr[i];\n",
        "        count[arr[i]]--;\n",
        "    }\n",
        "\n",
        "    // Copy the sorted elements back to the original array\n",
        "    for (int i = 0; i < n; i++) {\n",
        "        arr[i] = output[i];\n",
        "    }\n",
        "}\n",
        "\n",
        "int main() {\n",
        "    int n;\n",
        "    cin >> n;\n",
        "    int arr[n];\n",
        "\n",
        "    // Input the array elements\n",
        "    for (int i = 0; i < n; i++) {\n",
        "        cin >> arr[i];\n",
        "    }\n",
        "\n",
        "    // Call the counting sort function\n",
        "    countSort(arr, n);\n",
        "\n",
        "    // Print the sorted array\n",
        "    for (int i = 0; i < n; i++) {\n",
        "        cout << arr[i] << \" \";\n",
        "    }\n",
        "    cout << endl;\n",
        "\n",
        "    return 0;\n",
        "}\n"
      ],
      "metadata": {
        "colab": {
          "base_uri": "https://localhost:8080/"
        },
        "id": "2Zy4poP8a_1_",
        "outputId": "52afa5d8-c5da-44c4-abd9-48aaab6d7e4a"
      },
      "execution_count": null,
      "outputs": [
        {
          "output_type": "stream",
          "name": "stdout",
          "text": [
            "Overwriting count_sort.cpp\n"
          ]
        }
      ]
    },
    {
      "cell_type": "code",
      "source": [
        "%%shell\n",
        "g++ count_sort.cpp -o count_sort\n",
        "./count_sort"
      ],
      "metadata": {
        "colab": {
          "base_uri": "https://localhost:8080/"
        },
        "id": "neKipWhhV2U3",
        "outputId": "1b05bff6-7d3f-41c0-876c-5e5feac1ae50"
      },
      "execution_count": null,
      "outputs": [
        {
          "output_type": "stream",
          "name": "stdout",
          "text": [
            "5 \n",
            "4 5 6  5 4\n",
            "4 4 5 5 6 \n"
          ]
        },
        {
          "output_type": "execute_result",
          "data": {
            "text/plain": []
          },
          "metadata": {},
          "execution_count": 43
        }
      ]
    },
    {
      "cell_type": "code",
      "source": [
        "%%writefile shell_sort.cpp\n",
        "#include <iostream>\n",
        "using namespace std;\n",
        "int main(){\n",
        "    return 0;\n",
        "}"
      ],
      "metadata": {
        "colab": {
          "base_uri": "https://localhost:8080/"
        },
        "id": "2O84NO6UV6ik",
        "outputId": "c2ea4a8d-f423-478f-83ef-378591631ac7"
      },
      "execution_count": null,
      "outputs": [
        {
          "output_type": "stream",
          "name": "stdout",
          "text": [
            "Writing shell_sort.cpp\n"
          ]
        }
      ]
    },
    {
      "cell_type": "code",
      "source": [
        "%%shell\n",
        "g++ shell_sort.cpp -o shell_sort\n",
        "./shell_sort"
      ],
      "metadata": {
        "colab": {
          "base_uri": "https://localhost:8080/"
        },
        "id": "YRTZUxk7fCmw",
        "outputId": "7647873b-9349-4060-c7db-1e58b351e83b"
      },
      "execution_count": null,
      "outputs": [
        {
          "output_type": "execute_result",
          "data": {
            "text/plain": []
          },
          "metadata": {},
          "execution_count": 47
        }
      ]
    },
    {
      "cell_type": "code",
      "source": [
        "def is_sorted(arr: list[int], n : int) -> bool:\n",
        "    if n <= 1:\n",
        "        return True\n",
        "    if arr[n - 1] < arr[n - 2]:\n",
        "        return False\n",
        "    return is_sorted( arr[: n - 1], n - 1)\n"
      ],
      "metadata": {
        "id": "NoVtL84MfHfW"
      },
      "execution_count": null,
      "outputs": []
    },
    {
      "cell_type": "code",
      "source": [
        "is_sorted([1,2,6,4], 4)"
      ],
      "metadata": {
        "colab": {
          "base_uri": "https://localhost:8080/"
        },
        "id": "-qDE0q79dkkP",
        "outputId": "5a411ca6-fbcb-4237-cf02-641f235547ab"
      },
      "execution_count": null,
      "outputs": [
        {
          "output_type": "execute_result",
          "data": {
            "text/plain": [
              "False"
            ]
          },
          "metadata": {},
          "execution_count": 6
        }
      ]
    },
    {
      "cell_type": "code",
      "source": [
        "arr = [1,2,3,4,4,5,9]\n",
        "n = len(arr)\n",
        "is_sorted(arr, n)"
      ],
      "metadata": {
        "colab": {
          "base_uri": "https://localhost:8080/"
        },
        "id": "spoBUIYvjnXu",
        "outputId": "55be8b84-6434-4ec7-9adb-f029027cd236"
      },
      "execution_count": null,
      "outputs": [
        {
          "output_type": "execute_result",
          "data": {
            "text/plain": [
              "True"
            ]
          },
          "metadata": {},
          "execution_count": 7
        }
      ]
    },
    {
      "cell_type": "code",
      "source": [
        "#anagrams"
      ],
      "metadata": {
        "id": "7mbaSssXdonr"
      },
      "execution_count": null,
      "outputs": []
    },
    {
      "cell_type": "code",
      "source": [],
      "metadata": {
        "id": "3a8eVre4egGI"
      },
      "execution_count": null,
      "outputs": []
    }
  ]
}